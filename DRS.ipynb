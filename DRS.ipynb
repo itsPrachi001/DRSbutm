{
  "nbformat": 4,
  "nbformat_minor": 0,
  "metadata": {
    "colab": {
      "name": "DRS.ipynb",
      "provenance": [],
      "collapsed_sections": [],
      "authorship_tag": "ABX9TyMdchGCdYSdDU3r1isQLLhk",
      "include_colab_link": true
    },
    "kernelspec": {
      "name": "python3",
      "display_name": "Python 3"
    },
    "language_info": {
      "name": "python"
    }
  },
  "cells": [
    {
      "cell_type": "markdown",
      "metadata": {
        "id": "view-in-github",
        "colab_type": "text"
      },
      "source": [
        "<a href=\"https://colab.research.google.com/github/itsPrachi001/DRSbutm/blob/main/DRS.ipynb\" target=\"_parent\"><img src=\"https://colab.research.google.com/assets/colab-badge.svg\" alt=\"Open In Colab\"/></a>"
      ]
    },
    {
      "cell_type": "code",
      "execution_count": 1,
      "metadata": {
        "id": "X2P9Quily66I"
      },
      "outputs": [],
      "source": [
        "import numpy as np\n",
        "import pandas as pd\n",
        "import difflib\n",
        "from sklearn.feature_extraction.text import TfidfVectorizer\n",
        "from sklearn.metrics.pairwise import cosine_similarity"
      ]
    },
    {
      "cell_type": "code",
      "source": [
        "# loading the data from the csv file to apandas dataframe\n",
        "drug_data = pd.read_csv('/content/drugsComTrain_raw.csv')"
      ],
      "metadata": {
        "id": "TPvRZ7-iy8UR"
      },
      "execution_count": 2,
      "outputs": []
    },
    {
      "cell_type": "code",
      "source": [
        "# printing the first 5 rows of the dataframe\n",
        "drug_data.head()"
      ],
      "metadata": {
        "id": "8cdggrKczH5y",
        "colab": {
          "base_uri": "https://localhost:8080/",
          "height": 250
        },
        "outputId": "635e5f76-7a90-4f3d-e7ae-d329241f5a55"
      },
      "execution_count": 3,
      "outputs": [
        {
          "output_type": "execute_result",
          "data": {
            "text/plain": [
              "   uniqueID                  drugName                     condition  \\\n",
              "0    206461                 Valsartan  Left Ventricular Dysfunction   \n",
              "1     95260                Guanfacine                          ADHD   \n",
              "2     92703                    Lybrel                 Birth Control   \n",
              "3    138000                Ortho Evra                 Birth Control   \n",
              "4     35696  Buprenorphine / naloxone             Opiate Dependence   \n",
              "\n",
              "                                              review  rating       date  \\\n",
              "0  \"It has no side effect, I take it in combinati...       9  20-May-12   \n",
              "1  \"My son is halfway through his fourth week of ...       8  27-Apr-10   \n",
              "2  \"I used to take another oral contraceptive, wh...       5  14-Dec-09   \n",
              "3  \"This is my first time using any form of birth...       8   3-Nov-15   \n",
              "4  \"Suboxone has completely turned my life around...       9  27-Nov-16   \n",
              "\n",
              "   usefulCount  \n",
              "0           27  \n",
              "1          192  \n",
              "2           17  \n",
              "3           10  \n",
              "4           37  "
            ],
            "text/html": [
              "\n",
              "  <div id=\"df-93a10e6a-0b6f-47fc-9a68-613ebf1f0d1a\">\n",
              "    <div class=\"colab-df-container\">\n",
              "      <div>\n",
              "<style scoped>\n",
              "    .dataframe tbody tr th:only-of-type {\n",
              "        vertical-align: middle;\n",
              "    }\n",
              "\n",
              "    .dataframe tbody tr th {\n",
              "        vertical-align: top;\n",
              "    }\n",
              "\n",
              "    .dataframe thead th {\n",
              "        text-align: right;\n",
              "    }\n",
              "</style>\n",
              "<table border=\"1\" class=\"dataframe\">\n",
              "  <thead>\n",
              "    <tr style=\"text-align: right;\">\n",
              "      <th></th>\n",
              "      <th>uniqueID</th>\n",
              "      <th>drugName</th>\n",
              "      <th>condition</th>\n",
              "      <th>review</th>\n",
              "      <th>rating</th>\n",
              "      <th>date</th>\n",
              "      <th>usefulCount</th>\n",
              "    </tr>\n",
              "  </thead>\n",
              "  <tbody>\n",
              "    <tr>\n",
              "      <th>0</th>\n",
              "      <td>206461</td>\n",
              "      <td>Valsartan</td>\n",
              "      <td>Left Ventricular Dysfunction</td>\n",
              "      <td>\"It has no side effect, I take it in combinati...</td>\n",
              "      <td>9</td>\n",
              "      <td>20-May-12</td>\n",
              "      <td>27</td>\n",
              "    </tr>\n",
              "    <tr>\n",
              "      <th>1</th>\n",
              "      <td>95260</td>\n",
              "      <td>Guanfacine</td>\n",
              "      <td>ADHD</td>\n",
              "      <td>\"My son is halfway through his fourth week of ...</td>\n",
              "      <td>8</td>\n",
              "      <td>27-Apr-10</td>\n",
              "      <td>192</td>\n",
              "    </tr>\n",
              "    <tr>\n",
              "      <th>2</th>\n",
              "      <td>92703</td>\n",
              "      <td>Lybrel</td>\n",
              "      <td>Birth Control</td>\n",
              "      <td>\"I used to take another oral contraceptive, wh...</td>\n",
              "      <td>5</td>\n",
              "      <td>14-Dec-09</td>\n",
              "      <td>17</td>\n",
              "    </tr>\n",
              "    <tr>\n",
              "      <th>3</th>\n",
              "      <td>138000</td>\n",
              "      <td>Ortho Evra</td>\n",
              "      <td>Birth Control</td>\n",
              "      <td>\"This is my first time using any form of birth...</td>\n",
              "      <td>8</td>\n",
              "      <td>3-Nov-15</td>\n",
              "      <td>10</td>\n",
              "    </tr>\n",
              "    <tr>\n",
              "      <th>4</th>\n",
              "      <td>35696</td>\n",
              "      <td>Buprenorphine / naloxone</td>\n",
              "      <td>Opiate Dependence</td>\n",
              "      <td>\"Suboxone has completely turned my life around...</td>\n",
              "      <td>9</td>\n",
              "      <td>27-Nov-16</td>\n",
              "      <td>37</td>\n",
              "    </tr>\n",
              "  </tbody>\n",
              "</table>\n",
              "</div>\n",
              "      <button class=\"colab-df-convert\" onclick=\"convertToInteractive('df-93a10e6a-0b6f-47fc-9a68-613ebf1f0d1a')\"\n",
              "              title=\"Convert this dataframe to an interactive table.\"\n",
              "              style=\"display:none;\">\n",
              "        \n",
              "  <svg xmlns=\"http://www.w3.org/2000/svg\" height=\"24px\"viewBox=\"0 0 24 24\"\n",
              "       width=\"24px\">\n",
              "    <path d=\"M0 0h24v24H0V0z\" fill=\"none\"/>\n",
              "    <path d=\"M18.56 5.44l.94 2.06.94-2.06 2.06-.94-2.06-.94-.94-2.06-.94 2.06-2.06.94zm-11 1L8.5 8.5l.94-2.06 2.06-.94-2.06-.94L8.5 2.5l-.94 2.06-2.06.94zm10 10l.94 2.06.94-2.06 2.06-.94-2.06-.94-.94-2.06-.94 2.06-2.06.94z\"/><path d=\"M17.41 7.96l-1.37-1.37c-.4-.4-.92-.59-1.43-.59-.52 0-1.04.2-1.43.59L10.3 9.45l-7.72 7.72c-.78.78-.78 2.05 0 2.83L4 21.41c.39.39.9.59 1.41.59.51 0 1.02-.2 1.41-.59l7.78-7.78 2.81-2.81c.8-.78.8-2.07 0-2.86zM5.41 20L4 18.59l7.72-7.72 1.47 1.35L5.41 20z\"/>\n",
              "  </svg>\n",
              "      </button>\n",
              "      \n",
              "  <style>\n",
              "    .colab-df-container {\n",
              "      display:flex;\n",
              "      flex-wrap:wrap;\n",
              "      gap: 12px;\n",
              "    }\n",
              "\n",
              "    .colab-df-convert {\n",
              "      background-color: #E8F0FE;\n",
              "      border: none;\n",
              "      border-radius: 50%;\n",
              "      cursor: pointer;\n",
              "      display: none;\n",
              "      fill: #1967D2;\n",
              "      height: 32px;\n",
              "      padding: 0 0 0 0;\n",
              "      width: 32px;\n",
              "    }\n",
              "\n",
              "    .colab-df-convert:hover {\n",
              "      background-color: #E2EBFA;\n",
              "      box-shadow: 0px 1px 2px rgba(60, 64, 67, 0.3), 0px 1px 3px 1px rgba(60, 64, 67, 0.15);\n",
              "      fill: #174EA6;\n",
              "    }\n",
              "\n",
              "    [theme=dark] .colab-df-convert {\n",
              "      background-color: #3B4455;\n",
              "      fill: #D2E3FC;\n",
              "    }\n",
              "\n",
              "    [theme=dark] .colab-df-convert:hover {\n",
              "      background-color: #434B5C;\n",
              "      box-shadow: 0px 1px 3px 1px rgba(0, 0, 0, 0.15);\n",
              "      filter: drop-shadow(0px 1px 2px rgba(0, 0, 0, 0.3));\n",
              "      fill: #FFFFFF;\n",
              "    }\n",
              "  </style>\n",
              "\n",
              "      <script>\n",
              "        const buttonEl =\n",
              "          document.querySelector('#df-93a10e6a-0b6f-47fc-9a68-613ebf1f0d1a button.colab-df-convert');\n",
              "        buttonEl.style.display =\n",
              "          google.colab.kernel.accessAllowed ? 'block' : 'none';\n",
              "\n",
              "        async function convertToInteractive(key) {\n",
              "          const element = document.querySelector('#df-93a10e6a-0b6f-47fc-9a68-613ebf1f0d1a');\n",
              "          const dataTable =\n",
              "            await google.colab.kernel.invokeFunction('convertToInteractive',\n",
              "                                                     [key], {});\n",
              "          if (!dataTable) return;\n",
              "\n",
              "          const docLinkHtml = 'Like what you see? Visit the ' +\n",
              "            '<a target=\"_blank\" href=https://colab.research.google.com/notebooks/data_table.ipynb>data table notebook</a>'\n",
              "            + ' to learn more about interactive tables.';\n",
              "          element.innerHTML = '';\n",
              "          dataTable['output_type'] = 'display_data';\n",
              "          await google.colab.output.renderOutput(dataTable, element);\n",
              "          const docLink = document.createElement('div');\n",
              "          docLink.innerHTML = docLinkHtml;\n",
              "          element.appendChild(docLink);\n",
              "        }\n",
              "      </script>\n",
              "    </div>\n",
              "  </div>\n",
              "  "
            ]
          },
          "metadata": {},
          "execution_count": 3
        }
      ]
    },
    {
      "cell_type": "code",
      "source": [
        "# number of rows and columns in the data frame\n",
        "\n",
        "drug_data.shape"
      ],
      "metadata": {
        "id": "5UQmlW7XNIYH",
        "colab": {
          "base_uri": "https://localhost:8080/"
        },
        "outputId": "0c129c6c-e9d6-4a0e-b58f-a09c34de11f0"
      },
      "execution_count": 4,
      "outputs": [
        {
          "output_type": "execute_result",
          "data": {
            "text/plain": [
              "(161297, 7)"
            ]
          },
          "metadata": {},
          "execution_count": 4
        }
      ]
    },
    {
      "cell_type": "code",
      "source": [
        "# selecting the relevant features for recommendation\n",
        "\n",
        "selected_features = ['condition','review','drugName']\n",
        "print(selected_features)"
      ],
      "metadata": {
        "id": "epujHXyeiYhx",
        "colab": {
          "base_uri": "https://localhost:8080/"
        },
        "outputId": "3ce059d2-5031-4441-9fb2-d5d9ed065e43"
      },
      "execution_count": 5,
      "outputs": [
        {
          "output_type": "stream",
          "name": "stdout",
          "text": [
            "['condition', 'review', 'drugName']\n"
          ]
        }
      ]
    },
    {
      "cell_type": "code",
      "source": [
        "# replacing the null valuess with null string\n",
        "\n",
        "for feature in selected_features:\n",
        "  drug_data[feature] = drug_data[feature].fillna('')"
      ],
      "metadata": {
        "id": "Rr_TzDBBic_M"
      },
      "execution_count": 6,
      "outputs": []
    },
    {
      "cell_type": "code",
      "source": [
        "# combining all the  selected features\n",
        "\n",
        "combined_features = drug_data['condition']+' '+drug_data['review']+' '+drug_data['drugName']"
      ],
      "metadata": {
        "id": "UbvV0cCWrHPO"
      },
      "execution_count": 7,
      "outputs": []
    },
    {
      "cell_type": "code",
      "source": [
        "print(combined_features)"
      ],
      "metadata": {
        "id": "lY5INmOErZKj",
        "colab": {
          "base_uri": "https://localhost:8080/"
        },
        "outputId": "711d1c32-c737-4c0b-9772-665d252b8c97"
      },
      "execution_count": 8,
      "outputs": [
        {
          "output_type": "stream",
          "name": "stdout",
          "text": [
            "0         Left Ventricular Dysfunction \"It has no side e...\n",
            "1         ADHD \"My son is halfway through his fourth wee...\n",
            "2         Birth Control \"I used to take another oral con...\n",
            "3         Birth Control \"This is my first time using any...\n",
            "4         Opiate Dependence \"Suboxone has completely tur...\n",
            "                                ...                        \n",
            "161292    Alcohol Dependence \"I wrote my first report in...\n",
            "161293    Nausea/Vomiting \"I was given this in IV before...\n",
            "161294    Rheumatoid Arthritis \"Limited improvement afte...\n",
            "161295    Underactive Thyroid \"I&#039;ve been on thyroid...\n",
            "161296    Constipation, Chronic \"I&#039;ve had chronic c...\n",
            "Length: 161297, dtype: object\n"
          ]
        }
      ]
    },
    {
      "cell_type": "code",
      "source": [
        "# converting the text data to feature vectors\n",
        "\n",
        "vectorizer = TfidfVectorizer()"
      ],
      "metadata": {
        "id": "ttj_8iA9rcat"
      },
      "execution_count": 9,
      "outputs": []
    },
    {
      "cell_type": "code",
      "source": [
        "feature_vectors = vectorizer.fit_transform(combined_features)"
      ],
      "metadata": {
        "id": "IA8TTmKKrf1I"
      },
      "execution_count": 10,
      "outputs": []
    },
    {
      "cell_type": "code",
      "source": [
        "print(feature_vectors)"
      ],
      "metadata": {
        "id": "6RrT5YdNriWV",
        "colab": {
          "base_uri": "https://localhost:8080/"
        },
        "outputId": "6fb9bae9-19fa-4d4f-bba3-127e73aedc6c"
      },
      "execution_count": 11,
      "outputs": [
        {
          "output_type": "stream",
          "name": "stdout",
          "text": [
            "  (0, 48162)\t0.3745427782933889\n",
            "  (0, 32253)\t0.3109542650181897\n",
            "  (0, 19223)\t0.37582653474102456\n",
            "  (0, 5365)\t0.05449597840412726\n",
            "  (0, 29172)\t0.17227997335124745\n",
            "  (0, 9313)\t0.3561825251021405\n",
            "  (0, 32183)\t0.07193271560616309\n",
            "  (0, 11541)\t0.2616761625712548\n",
            "  (0, 23990)\t0.08039157466232182\n",
            "  (0, 44430)\t0.11878016057288025\n",
            "  (0, 16618)\t0.17606551995814665\n",
            "  (0, 41060)\t0.10720080018574339\n",
            "  (0, 31424)\t0.10687128323266164\n",
            "  (0, 21981)\t0.11463538334486305\n",
            "  (0, 25276)\t0.1211905157073475\n",
            "  (0, 16347)\t0.2672945252881828\n",
            "  (0, 48394)\t0.40701962053189594\n",
            "  (0, 26639)\t0.22179003029726033\n",
            "  (1, 21537)\t0.12402199461240486\n",
            "  (1, 16623)\t0.06615921361395394\n",
            "  (1, 30115)\t0.05937713442361408\n",
            "  (1, 18636)\t0.05626446105429208\n",
            "  (1, 41809)\t0.03151766188937825\n",
            "  (1, 28603)\t0.07330830451956097\n",
            "  (1, 14780)\t0.06221342355562836\n",
            "  :\t:\n",
            "  (161296, 8552)\t0.1403167842852551\n",
            "  (161296, 28495)\t0.10611986540811123\n",
            "  (161296, 12128)\t0.27336145545360285\n",
            "  (161296, 26948)\t0.18345680720428012\n",
            "  (161296, 30011)\t0.07689757239652524\n",
            "  (161296, 38)\t0.13268008447114937\n",
            "  (161296, 31751)\t0.13687812319662257\n",
            "  (161296, 21715)\t0.054125880536592355\n",
            "  (161296, 46426)\t0.10042558246650932\n",
            "  (161296, 4793)\t0.07196005905459192\n",
            "  (161296, 7437)\t0.06000747051144715\n",
            "  (161296, 15613)\t0.086884094595565\n",
            "  (161296, 48477)\t0.07859867311253178\n",
            "  (161296, 13557)\t0.07903420523799086\n",
            "  (161296, 19794)\t0.12414443592519056\n",
            "  (161296, 32360)\t0.09951566245492646\n",
            "  (161296, 42792)\t0.07672524013701094\n",
            "  (161296, 49304)\t0.08864647950996189\n",
            "  (161296, 25202)\t0.05390329464035576\n",
            "  (161296, 30468)\t0.03936578790793723\n",
            "  (161296, 5365)\t0.03493543214031002\n",
            "  (161296, 29172)\t0.11044255914654978\n",
            "  (161296, 32183)\t0.046113503754196435\n",
            "  (161296, 31424)\t0.06851137593007668\n",
            "  (161296, 25276)\t0.11653638933169141\n"
          ]
        }
      ]
    },
    {
      "cell_type": "code",
      "source": [
        "# getting the similarity scores using cosine similarity\n",
        "\n",
        "similarity = cosine_similarity(feature_vectors)"
      ],
      "metadata": {
        "id": "PEY9zpSIrtBx"
      },
      "execution_count": null,
      "outputs": []
    },
    {
      "cell_type": "code",
      "source": [
        "print(similarity)"
      ],
      "metadata": {
        "id": "e3uPtZrkrxxr"
      },
      "execution_count": null,
      "outputs": []
    }
  ]
}